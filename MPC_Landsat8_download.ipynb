{
 "cells": [
  {
   "cell_type": "code",
   "execution_count": null,
   "id": "4a07a9e1-f9c8-4e87-9c57-a5a4c9202fa9",
   "metadata": {},
   "outputs": [],
   "source": [
    "!pip install pystac-client"
   ]
  },
  {
   "cell_type": "code",
   "execution_count": null,
   "id": "1424ef1b-6868-4e4c-b5cf-e8b381fffd3a",
   "metadata": {},
   "outputs": [],
   "source": [
    "import pystac_client\n",
    "import planetary_computer\n",
    "\n",
    "catalog = pystac_client.Client.open(\n",
    "    \"https://planetarycomputer.microsoft.com/api/stac/v1\",\n",
    "    modifier=planetary_computer.sign_inplace,\n",
    ")"
   ]
  },
  {
   "cell_type": "code",
   "execution_count": null,
   "id": "9230d160-401a-4824-9c59-33270aa9a0e2",
   "metadata": {},
   "outputs": [],
   "source": [
    "bbox_of_interest = [130.1336597270651,47.20167448654658,130.46158452041874,47.42586974012832]\n",
    "time_of_interest = \"2016-06-01/2016-06-05\""
   ]
  },
  {
   "cell_type": "code",
   "execution_count": null,
   "id": "d14b1d73-b638-4f35-8e15-dc1c40c76fee",
   "metadata": {},
   "outputs": [],
   "source": [
    "search = catalog.search(\n",
    "     collections=[\"landsat-c2-l2\"],\n",
    "     bbox=bbox_of_interest,\n",
    "     datetime=time_of_interest,\n",
    "     query={\"eo:cloud_cover\": {\"lt\": 10}},\n",
    " )\n",
    "items = search.item_collection()\n",
    "print(f\"Returned {len(items)} Items\")"
   ]
  },
  {
   "cell_type": "code",
   "execution_count": null,
   "id": "4f6b63a7-350b-4bd9-89a0-5c7cf63c1e71",
   "metadata": {},
   "outputs": [],
   "source": [
    "from pystac.extensions.eo import EOExtension as eo\n",
    "selected_item = min(items, key=lambda item: eo.ext(item).cloud_cover)\n",
    "print(\n",
    "     f\"Choosing {selected_item.id} from {selected_item.datetime.date()}\"\n",
    "     + f\" with {selected_item.properties['eo:cloud_cover']}% cloud cover\"\n",
    ")"
   ]
  },
  {
   "cell_type": "code",
   "execution_count": null,
   "id": "08db1f3b-d71d-4aed-8824-81095ff80381",
   "metadata": {},
   "outputs": [],
   "source": [
    "for key, asset in selected_item.assets.items():\n",
    "     print(key, asset)"
   ]
  },
  {
   "cell_type": "code",
   "execution_count": null,
   "id": "31ba9fd9-2f14-4bd5-b0f8-80f2cc90272b",
   "metadata": {},
   "outputs": [],
   "source": [
    "from IPython.display import Image\n",
    "Image(url=selected_item.assets[\"rendered_preview\"].href)"
   ]
  },
  {
   "cell_type": "code",
   "execution_count": null,
   "id": "524b0124-3954-4b96-ada0-4f260d5244a4",
   "metadata": {},
   "outputs": [],
   "source": [
    "from osgeo import gdal\n",
    "import numpy as np\n",
    "\n",
    "#  读取tif数据集\n",
    "def read_img(fileName, xoff=0, yoff=0, data_width=0, data_height=0):\n",
    "    dataset = gdal.Open(fileName)\n",
    "    if dataset == None:\n",
    "        print(fileName + \"文件无法打开\")\n",
    "    #  栅格矩阵的列数\n",
    "    width = dataset.RasterXSize\n",
    "    #  栅格矩阵的行数\n",
    "    height = dataset.RasterYSize\n",
    "    #  波段数\n",
    "    bands = dataset.RasterCount\n",
    "    #  获取数据\n",
    "    if (data_width == 0 and data_height == 0):\n",
    "        data_width = width\n",
    "        data_height = height\n",
    "    data = dataset.ReadAsArray(xoff, yoff, data_width, data_height)\n",
    "    #  获取仿射矩阵信息\n",
    "    geotrans = dataset.GetGeoTransform()\n",
    "    #  获取投影信息\n",
    "    proj = dataset.GetProjection()\n",
    "    return width, height, bands, data, geotrans, proj\n",
    "\n",
    "def write_img(filename, im_geotrans, im_proj, im_data):\n",
    "    if 'int8' in im_data.dtype.name:\n",
    "        datatype = gdal.GDT_Byte\n",
    "    elif 'int16' in im_data.dtype.name:\n",
    "        datatype = gdal.GDT_UInt16\n",
    "    else:\n",
    "        datatype = gdal.GDT_Float32\n",
    "\n",
    "    if len(im_data.shape) == 3:\n",
    "        im_bands, im_height, im_width = im_data.shape\n",
    "    else:\n",
    "        im_bands, (im_height, im_width) = 1, im_data.shape\n",
    "\n",
    "    driver = gdal.GetDriverByName(\"GTiff\")\n",
    "    dataset = driver.Create(filename, im_width, im_height, im_bands, datatype, options=[\"TILED=YES\", \"COMPRESS=LZW\"])\n",
    "\n",
    "    dataset.SetGeoTransform(im_geotrans)\n",
    "    dataset.SetProjection(im_proj)\n",
    "    if im_bands == 1:\n",
    "        dataset.GetRasterBand(1).WriteArray(im_data)\n",
    "    else:\n",
    "        for i in range(im_bands):\n",
    "            dataset.GetRasterBand(i + 1).WriteArray(im_data[i])\n",
    "\n",
    "    del dataset\n",
    "\n",
    "band_list = [\"red\", \"green\", \"blue\"]\n",
    "array_list, img_geotrans, img_proj = [], (0, 0, 0, 0, 0, 0), \"\"\n",
    "for band_name in band_list:    \n",
    "    width, height, bands, data, geotrans, proj = read_img(selected_item.assets[band_name].href)\n",
    "    img_geotrans = geotrans\n",
    "    img_proj = proj\n",
    "    array_list.append(data)\n",
    "array_list = np.array(array_list)\n",
    "write_img(\"landsat8_SR.tif\", img_geotrans, img_proj, array_list)\n",
    "print(\"raster download finished!\")"
   ]
  },
  {
   "cell_type": "code",
   "execution_count": null,
   "id": "f0bec6c6-4ce1-4465-bba8-2f18968fc275",
   "metadata": {},
   "outputs": [],
   "source": []
  }
 ],
 "metadata": {
  "kernelspec": {
   "display_name": "Python 3 (ipykernel)",
   "language": "python",
   "name": "python3"
  },
  "language_info": {
   "codemirror_mode": {
    "name": "ipython",
    "version": 3
   },
   "file_extension": ".py",
   "mimetype": "text/x-python",
   "name": "python",
   "nbconvert_exporter": "python",
   "pygments_lexer": "ipython3",
   "version": "3.10.6"
  }
 },
 "nbformat": 4,
 "nbformat_minor": 5
}
